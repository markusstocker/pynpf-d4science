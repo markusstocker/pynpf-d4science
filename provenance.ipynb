{
 "cells": [
  {
   "cell_type": "markdown",
   "metadata": {},
   "source": [
    "# Provenance Processing"
   ]
  },
  {
   "cell_type": "markdown",
   "metadata": {},
   "source": [
    "## Setup"
   ]
  },
  {
   "cell_type": "code",
   "execution_count": null,
   "metadata": {},
   "outputs": [],
   "source": [
    "import os\n",
    "\n",
    "# In the Terminal, export GCUBE_TOKEN=''\n",
    "gcube_token = os.environ['GCUBE_TOKEN']\n",
    "# Alternatively, include the token here\n",
    "# gcube_token = ''"
   ]
  },
  {
   "cell_type": "code",
   "execution_count": null,
   "metadata": {},
   "outputs": [],
   "source": [
    "import json\n",
    "import logging\n",
    "import requests\n",
    "import pandas as pd\n",
    "from rdflib import Graph\n",
    "from io import BytesIO, StringIO\n",
    "from lxml import etree as et\n",
    "from IPython.display import display, Image\n",
    "from owslib.wps import WebProcessingService, ComplexDataInput, monitorExecution\n",
    "from rdflib.plugins.sparql.results.csvresults import CSVResultSerializer\n",
    "\n",
    "pd.options.display.max_colwidth = 256\n",
    "logging.basicConfig()\n",
    "logging.getLogger().setLevel(logging.ERROR)\n",
    "dataminer_url = 'http://dataminer-prototypes.d4science.org/wps/WebProcessingService'\n",
    "headers = {'gcube-token': gcube_token}\n",
    "wps = WebProcessingService(dataminer_url, headers=headers)\n",
    "\n",
    "g = Graph()\n",
    "\n",
    "def read():\n",
    "    identifier = 'org.gcube.dataanalysis.wps.statisticalmanager.synchserver.mappedclasses.transducerers.PFREADDATA'\n",
    "    execution = wps.execute(identifier, inputs=[('place', 'None')], output='non_deterministic_output')\n",
    "    monitorExecution(execution, sleepSecs=2, download=False)\n",
    "    output = execution.processOutputs[0]\n",
    "    doc = et.parse(BytesIO(output.retrieveData(headers=headers)))\n",
    "    outputUrl = doc.xpath('/ogr:FeatureCollection/gml:featureMember/ogr:Result/d4science:Description[text() = \"output\"]/../d4science:Data/text()', namespaces={\n",
    "        'ogr': 'http://ogr.maptools.org/',\n",
    "        'gml': 'http://www.opengis.net/gml',\n",
    "        'd4science': 'http://www.d4science.org'})[0]\n",
    "    r = g.parse(outputUrl, format='turtle')\n",
    "\n",
    "def query(q):\n",
    "    serializer = CSVResultSerializer(g.query(q))\n",
    "    output = BytesIO()\n",
    "    serializer.serialize(output)\n",
    "    display(pd.read_csv(StringIO(output.getvalue().decode())))"
   ]
  },
  {
   "cell_type": "code",
   "execution_count": null,
   "metadata": {},
   "outputs": [],
   "source": [
    "read()"
   ]
  },
  {
   "cell_type": "code",
   "execution_count": null,
   "metadata": {},
   "outputs": [],
   "source": [
    "query(\"\"\"\n",
    "SELECT ?entity2 ?entity1 ?activity ?time\n",
    "WHERE {\n",
    "  ?entity2 prov:wasDerivedFrom ?entity1 .\n",
    "  ?entity2 prov:wasGeneratedBy ?a .\n",
    "  ?a rdf:type [ rdfs:label ?activity ] .\n",
    "  ?a prov:startedAtTime ?time\n",
    "}\n",
    "ORDER BY ASC(?time)\n",
    "\"\"\")"
   ]
  }
 ],
 "metadata": {
  "kernelspec": {
   "display_name": "Python 3",
   "language": "python",
   "name": "python3"
  },
  "language_info": {
   "codemirror_mode": {
    "name": "ipython",
    "version": 3
   },
   "file_extension": ".py",
   "mimetype": "text/x-python",
   "name": "python",
   "nbconvert_exporter": "python",
   "pygments_lexer": "ipython3",
   "version": "3.6.5"
  }
 },
 "nbformat": 4,
 "nbformat_minor": 2
}
