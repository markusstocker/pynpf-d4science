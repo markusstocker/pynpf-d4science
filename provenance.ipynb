{
 "cells": [
  {
   "cell_type": "markdown",
   "metadata": {},
   "source": [
    "# Provenance Processing"
   ]
  },
  {
   "cell_type": "markdown",
   "metadata": {},
   "source": [
    "## Setup"
   ]
  },
  {
   "cell_type": "code",
   "execution_count": 60,
   "metadata": {},
   "outputs": [],
   "source": [
    "import os\n",
    "\n",
    "# In the Terminal, export GCUBE_TOKEN=''\n",
    "gcube_token = os.environ['GCUBE_TOKEN']\n",
    "# Alternatively, include the token here\n",
    "# gcube_token = ''"
   ]
  },
  {
   "cell_type": "code",
   "execution_count": 61,
   "metadata": {},
   "outputs": [],
   "source": [
    "import json\n",
    "import logging\n",
    "import requests\n",
    "import pandas as pd\n",
    "from prov.serializers.provrdf import ProvRDFSerializer\n",
    "from prov.dot import prov_to_dot\n",
    "from rdflib import Graph\n",
    "from io import BytesIO, StringIO\n",
    "from lxml import etree as et\n",
    "from IPython.display import display, Image\n",
    "from owslib.wps import WebProcessingService, ComplexDataInput, monitorExecution\n",
    "from rdflib.plugins.sparql.results.csvresults import CSVResultSerializer\n",
    "\n",
    "pd.options.display.max_colwidth = 256\n",
    "logging.basicConfig()\n",
    "logging.getLogger().setLevel(logging.ERROR)\n",
    "dataminer_url = 'http://dataminer-prototypes.d4science.org/wps/WebProcessingService'\n",
    "headers = {'gcube-token': gcube_token}\n",
    "wps = WebProcessingService(dataminer_url, headers=headers)\n",
    "\n",
    "g = Graph()\n",
    "\n",
    "def read():\n",
    "    identifier = 'org.gcube.dataanalysis.wps.statisticalmanager.synchserver.mappedclasses.transducerers.PFREADDATA'\n",
    "    execution = wps.execute(identifier, inputs=[('place', 'None')], output=\"non_deterministic_output\")\n",
    "    monitorExecution(execution, sleepSecs=2, download=False)\n",
    "    output = execution.processOutputs[0]\n",
    "    doc = et.parse(BytesIO(output.retrieveData(headers=headers)))\n",
    "    outputUrl = doc.xpath('/ogr:FeatureCollection/gml:featureMember/ogr:Result/d4science:Description[text() = \"output\"]/../d4science:Data/text()', namespaces={\n",
    "        'ogr': 'http://ogr.maptools.org/',\n",
    "        'gml': 'http://www.opengis.net/gml',\n",
    "        'd4science': 'http://www.d4science.org'})[0]\n",
    "    r = g.parse(outputUrl, format='turtle')\n",
    "\n",
    "def query(q):\n",
    "    serializer = CSVResultSerializer(g.query(q))\n",
    "    output = BytesIO()\n",
    "    serializer.serialize(output)\n",
    "    display(pd.read_csv(StringIO(output.getvalue().decode())))"
   ]
  },
  {
   "cell_type": "code",
   "execution_count": 62,
   "metadata": {},
   "outputs": [],
   "source": [
    "read()"
   ]
  },
  {
   "cell_type": "code",
   "execution_count": 77,
   "metadata": {},
   "outputs": [
    {
     "data": {
      "text/html": [
       "<div>\n",
       "<style scoped>\n",
       "    .dataframe tbody tr th:only-of-type {\n",
       "        vertical-align: middle;\n",
       "    }\n",
       "\n",
       "    .dataframe tbody tr th {\n",
       "        vertical-align: top;\n",
       "    }\n",
       "\n",
       "    .dataframe thead th {\n",
       "        text-align: right;\n",
       "    }\n",
       "</style>\n",
       "<table border=\"1\" class=\"dataframe\">\n",
       "  <thead>\n",
       "    <tr style=\"text-align: right;\">\n",
       "      <th></th>\n",
       "      <th>entity2</th>\n",
       "      <th>entity1</th>\n",
       "      <th>activity</th>\n",
       "      <th>time</th>\n",
       "    </tr>\n",
       "  </thead>\n",
       "  <tbody>\n",
       "    <tr>\n",
       "      <th>0</th>\n",
       "      <td>http://avaa.tdata.fi/web/smart/smear/d103491968bedbeaf3a42a583570936d</td>\n",
       "      <td>http://data.d4science.org/dHhsSHFPWmlLUGw0aEZvUVRHOEtETUE1VloyNzVrRFBHbWJQNStIS0N6Yz0-VLT</td>\n",
       "      <td>data visualization</td>\n",
       "      <td>2018-08-14T19:02:00.837769+02:00</td>\n",
       "    </tr>\n",
       "    <tr>\n",
       "      <th>1</th>\n",
       "      <td>http://avaa.tdata.fi/web/smart/smear/2c3514176ca67a77a99292cbb4b6a3ae</td>\n",
       "      <td>http://data.d4science.org/WUd0KzRpV3RZelp2UTVoazcrRUNDNXVWYWwxTXNsUzJHbWJQNStIS0N6Yz0-VLT</td>\n",
       "      <td>data visualization</td>\n",
       "      <td>2018-08-14T19:02:38.797378+02:00</td>\n",
       "    </tr>\n",
       "    <tr>\n",
       "      <th>2</th>\n",
       "      <td>http://avaa.tdata.fi/web/smart/smear/e25aabd777518fbf87f6949f7a955614</td>\n",
       "      <td>http://avaa.tdata.fi/web/smart/smear/c0764836f4cc7da9c35a163f1ce778d8</td>\n",
       "      <td>arithmetic mean calculation</td>\n",
       "      <td>2018-08-14T19:03:26.216544+02:00</td>\n",
       "    </tr>\n",
       "  </tbody>\n",
       "</table>\n",
       "</div>"
      ],
      "text/plain": [
       "                                                                 entity2  \\\n",
       "0  http://avaa.tdata.fi/web/smart/smear/d103491968bedbeaf3a42a583570936d   \n",
       "1  http://avaa.tdata.fi/web/smart/smear/2c3514176ca67a77a99292cbb4b6a3ae   \n",
       "2  http://avaa.tdata.fi/web/smart/smear/e25aabd777518fbf87f6949f7a955614   \n",
       "\n",
       "                                                                                     entity1  \\\n",
       "0  http://data.d4science.org/dHhsSHFPWmlLUGw0aEZvUVRHOEtETUE1VloyNzVrRFBHbWJQNStIS0N6Yz0-VLT   \n",
       "1  http://data.d4science.org/WUd0KzRpV3RZelp2UTVoazcrRUNDNXVWYWwxTXNsUzJHbWJQNStIS0N6Yz0-VLT   \n",
       "2                      http://avaa.tdata.fi/web/smart/smear/c0764836f4cc7da9c35a163f1ce778d8   \n",
       "\n",
       "                      activity                              time  \n",
       "0           data visualization  2018-08-14T19:02:00.837769+02:00  \n",
       "1           data visualization  2018-08-14T19:02:38.797378+02:00  \n",
       "2  arithmetic mean calculation  2018-08-14T19:03:26.216544+02:00  "
      ]
     },
     "metadata": {},
     "output_type": "display_data"
    }
   ],
   "source": [
    "query(\"\"\"\n",
    "SELECT ?entity2 ?entity1 ?activity ?time\n",
    "WHERE {\n",
    "  ?entity2 prov:wasDerivedFrom ?entity1 .\n",
    "  ?entity2 prov:wasGeneratedBy ?a .\n",
    "  ?a rdf:type [ rdfs:label ?activity ] .\n",
    "  ?a prov:startedAtTime ?time\n",
    "}\n",
    "ORDER BY ASC(?time)\n",
    "\"\"\")"
   ]
  },
  {
   "cell_type": "code",
   "execution_count": null,
   "metadata": {},
   "outputs": [],
   "source": []
  }
 ],
 "metadata": {
  "kernelspec": {
   "display_name": "Python 3",
   "language": "python",
   "name": "python3"
  },
  "language_info": {
   "codemirror_mode": {
    "name": "ipython",
    "version": 3
   },
   "file_extension": ".py",
   "mimetype": "text/x-python",
   "name": "python",
   "nbconvert_exporter": "python",
   "pygments_lexer": "ipython3",
   "version": "3.6.5"
  }
 },
 "nbformat": 4,
 "nbformat_minor": 2
}
