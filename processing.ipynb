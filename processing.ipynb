{
 "cells": [
  {
   "cell_type": "markdown",
   "metadata": {},
   "source": [
    "# NPFE Processing\n",
    "\n",
    "This notebook supports the processing of NPFE descriptions, specifically computing mean event duration.\n",
    "\n",
    "Start by setting up the notebook. First, you need to provide your gcube token and load the provided functions."
   ]
  },
  {
   "cell_type": "markdown",
   "metadata": {},
   "source": [
    "## Setup"
   ]
  },
  {
   "cell_type": "code",
   "execution_count": null,
   "metadata": {},
   "outputs": [],
   "source": [
    "import os\n",
    "\n",
    "# In the Terminal, export GCUBE_TOKEN=''\n",
    "gcube_token = os.environ['GCUBE_TOKEN']\n",
    "# Alternatively, include the token here\n",
    "# gcube_token = ''"
   ]
  },
  {
   "cell_type": "code",
   "execution_count": null,
   "metadata": {},
   "outputs": [],
   "source": [
    "import json\n",
    "import logging\n",
    "import requests\n",
    "import pandas as pd\n",
    "from io import BytesIO, StringIO\n",
    "from lxml import etree as et\n",
    "from owslib.wps import WebProcessingService, ComplexDataInput, monitorExecution\n",
    "\n",
    "pd.options.display.max_colwidth = 256\n",
    "logging.basicConfig()\n",
    "logging.getLogger().setLevel(logging.ERROR)\n",
    "dataminer_url = 'http://dataminer-prototypes.d4science.org/wps/WebProcessingService'\n",
    "headers = {'gcube-token': gcube_token}\n",
    "wps = WebProcessingService(dataminer_url, headers=headers)\n",
    "    \n",
    "def read():\n",
    "    identifier = 'org.gcube.dataanalysis.wps.statisticalmanager.synchserver.mappedclasses.transducerers.PFREADDESCRIPTIONS'\n",
    "    execution = wps.execute(identifier, [('place', place)], output='non_deterministic_output')\n",
    "    monitorExecution(execution, sleepSecs=2, download=False)\n",
    "    output = execution.processOutputs[0]\n",
    "    doc = et.parse(BytesIO(output.retrieveData(headers=headers)))\n",
    "    outputUrl = doc.xpath('/ogr:FeatureCollection/gml:featureMember/ogr:Result/d4science:Description[text() = \"output\"]/../d4science:Data/text()', namespaces={\n",
    "        'ogr': 'http://ogr.maptools.org/',\n",
    "        'gml': 'http://www.opengis.net/gml',\n",
    "        'd4science': 'http://www.d4science.org'})[0]\n",
    "    df = pd.read_csv(StringIO(requests.get(outputUrl).content.decode('utf-8')), \n",
    "                     dtype={'classification': 'str', 'place': 'str', 'latitude': 'float', 'longitude': 'float', 'uri': 'str'})\n",
    "    df.beginning = pd.to_datetime(df.beginning, utc=True).dt.tz_convert('Europe/Helsinki')\n",
    "    df.end = pd.to_datetime(df.end, utc=True).dt.tz_convert('Europe/Helsinki')\n",
    "    df.style.hide_columns(['uri'])\n",
    "    return df\n",
    "\n",
    "def record(d):\n",
    "    identifier = 'org.gcube.dataanalysis.wps.statisticalmanager.synchserver.mappedclasses.transducerers.PFRECORDDURATION'\n",
    "    execution = wps.execute(identifier, [('value', str(d)),('event_uris', ','.join(df['uri'].tolist()))], output=\"non_deterministic_output\")"
   ]
  },
  {
   "cell_type": "markdown",
   "metadata": {},
   "source": [
    "## Processing\n",
    "\n",
    "The catalogued event descriptions can be read into a data frame, which is subsequently used to process event descriptions e.g., to compute average event durations or plot events on maps. Note that the system automatically translates the catalogued data into a data frame, which is easier to manipulate for data analysis."
   ]
  },
  {
   "cell_type": "code",
   "execution_count": null,
   "metadata": {},
   "outputs": [],
   "source": [
    "place = 'Hyytiaelae'"
   ]
  },
  {
   "cell_type": "code",
   "execution_count": null,
   "metadata": {},
   "outputs": [],
   "source": [
    "# Note that this takes a couple of seconds; wait before you continue ...\n",
    "df = read()"
   ]
  },
  {
   "cell_type": "code",
   "execution_count": null,
   "metadata": {},
   "outputs": [],
   "source": [
    "df.style.hide_columns(['uri'])"
   ]
  },
  {
   "cell_type": "code",
   "execution_count": null,
   "metadata": {},
   "outputs": [],
   "source": [
    "# Mean event duration in hours [h]\n",
    "d = (df.end - df.beginning).astype('timedelta64[h]').mean()"
   ]
  },
  {
   "cell_type": "code",
   "execution_count": null,
   "metadata": {},
   "outputs": [],
   "source": [
    "d"
   ]
  },
  {
   "cell_type": "code",
   "execution_count": null,
   "metadata": {},
   "outputs": [],
   "source": [
    "record(d)"
   ]
  }
 ],
 "metadata": {
  "kernelspec": {
   "display_name": "Python 3",
   "language": "python",
   "name": "python3"
  },
  "language_info": {
   "codemirror_mode": {
    "name": "ipython",
    "version": 3
   },
   "file_extension": ".py",
   "mimetype": "text/x-python",
   "name": "python",
   "nbconvert_exporter": "python",
   "pygments_lexer": "ipython3",
   "version": "3.6.5"
  }
 },
 "nbformat": 4,
 "nbformat_minor": 2
}
