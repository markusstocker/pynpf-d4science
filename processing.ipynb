{
 "cells": [
  {
   "cell_type": "markdown",
   "metadata": {},
   "source": [
    "# NPFE Processing\n",
    "\n",
    "This notebook supports the processing of NPFE descriptions.\n",
    "\n",
    "Start by setting up the notebook. First, you need to provide your gcube token and load the provided functions."
   ]
  },
  {
   "cell_type": "markdown",
   "metadata": {},
   "source": [
    "## Setup"
   ]
  },
  {
   "cell_type": "code",
   "execution_count": null,
   "metadata": {},
   "outputs": [],
   "source": [
    "import os\n",
    "\n",
    "# In the Terminal, export GCUBE_TOKEN=''\n",
    "gcube_token = os.environ['GCUBE_TOKEN']\n",
    "# Alternatively, include the token here\n",
    "# gcube_token = ''"
   ]
  },
  {
   "cell_type": "code",
   "execution_count": 136,
   "metadata": {},
   "outputs": [],
   "source": [
    "import json\n",
    "import logging\n",
    "import requests\n",
    "import pandas as pd\n",
    "from io import BytesIO, StringIO\n",
    "from lxml import etree as et\n",
    "from owslib.wps import WebProcessingService, ComplexDataInput, monitorExecution\n",
    "\n",
    "pd.options.display.max_colwidth = 256\n",
    "logging.basicConfig()\n",
    "logging.getLogger().setLevel(logging.ERROR)\n",
    "dataminer_url = 'http://dataminer-prototypes.d4science.org/wps/WebProcessingService'\n",
    "headers = {'gcube-token': gcube_token}\n",
    "wps = WebProcessingService(dataminer_url, headers=headers)\n",
    "    \n",
    "def read():\n",
    "    identifier = 'org.gcube.dataanalysis.wps.statisticalmanager.synchserver.mappedclasses.transducerers.PFREADDESCRIPTIONS'\n",
    "    execution = wps.execute(identifier, [('place', place)], output=\"non_deterministic_output\")\n",
    "    monitorExecution(execution, sleepSecs=2, download=False)\n",
    "    output = execution.processOutputs[0]\n",
    "    doc = et.parse(BytesIO(output.retrieveData(headers=headers)))\n",
    "    outputUrl = doc.xpath('/ogr:FeatureCollection/gml:featureMember/ogr:Result/d4science:Description[text() = \"output\"]/../d4science:Data/text()', namespaces={\n",
    "        'ogr': 'http://ogr.maptools.org/',\n",
    "        'gml': 'http://www.opengis.net/gml',\n",
    "        'd4science': 'http://www.d4science.org'})[0]\n",
    "    df = pd.read_csv(StringIO(requests.get(outputUrl).content.decode('utf-8')), \n",
    "                     dtype={'classification': 'str', 'place': 'str', 'latitude': 'float', 'longitude': 'float', 'uri': 'str'})\n",
    "    df.beginning = pd.to_datetime(df.beginning, utc=True).dt.tz_convert('Europe/Helsinki')\n",
    "    df.end = pd.to_datetime(df.end, utc=True).dt.tz_convert('Europe/Helsinki')\n",
    "    df.style.hide_columns(['uri'])\n",
    "    return df\n",
    "\n",
    "def record(d):\n",
    "    identifier = 'org.gcube.dataanalysis.wps.statisticalmanager.synchserver.mappedclasses.transducerers.PFRECORDDURATION'\n",
    "    execution = wps.execute(identifier, [('value', str(d)),('event_uris', ','.join(df['uri'].tolist()))], output=\"non_deterministic_output\")"
   ]
  },
  {
   "cell_type": "markdown",
   "metadata": {},
   "source": [
    "## Processing\n",
    "\n",
    "The catalogued event descriptions can be read into a data frame, which is subsequently used to process event descriptions e.g., to compute average event durations or plot events on maps. Note that the system automatically translates the catalogued data into a data frame, which is easier to manipulate for data analysis."
   ]
  },
  {
   "cell_type": "code",
   "execution_count": 137,
   "metadata": {},
   "outputs": [],
   "source": [
    "place = 'Hyytiaelae'"
   ]
  },
  {
   "cell_type": "code",
   "execution_count": 138,
   "metadata": {},
   "outputs": [],
   "source": [
    "# Note that this takes a couple of seconds; wait before you continue ...\n",
    "df = read()"
   ]
  },
  {
   "cell_type": "code",
   "execution_count": 139,
   "metadata": {},
   "outputs": [
    {
     "data": {
      "text/html": [
       "<style  type=\"text/css\" >\n",
       "</style>  \n",
       "<table id=\"T_f18fb4d4_9fe3_11e8_90a9_0f76b9511d67\" > \n",
       "<thead>    <tr> \n",
       "        <th class=\"blank level0\" ></th> \n",
       "        <th class=\"col_heading level0 col0\" >beginning</th> \n",
       "        <th class=\"col_heading level0 col1\" >end</th> \n",
       "        <th class=\"col_heading level0 col2\" >classification</th> \n",
       "        <th class=\"col_heading level0 col3\" >place</th> \n",
       "        <th class=\"col_heading level0 col4\" >latitude</th> \n",
       "        <th class=\"col_heading level0 col5\" >longitude</th> \n",
       "    </tr></thead> \n",
       "<tbody>    <tr> \n",
       "        <th id=\"T_f18fb4d4_9fe3_11e8_90a9_0f76b9511d67level0_row0\" class=\"row_heading level0 row0\" >0</th> \n",
       "        <td id=\"T_f18fb4d4_9fe3_11e8_90a9_0f76b9511d67row0_col0\" class=\"data row0 col0\" >2011-10-01 12:00:00+03:00</td> \n",
       "        <td id=\"T_f18fb4d4_9fe3_11e8_90a9_0f76b9511d67row0_col1\" class=\"data row0 col1\" >2011-10-01 15:00:00+03:00</td> \n",
       "        <td id=\"T_f18fb4d4_9fe3_11e8_90a9_0f76b9511d67row0_col2\" class=\"data row0 col2\" >Class Ia</td> \n",
       "        <td id=\"T_f18fb4d4_9fe3_11e8_90a9_0f76b9511d67row0_col3\" class=\"data row0 col3\" >Hyytiälä</td> \n",
       "        <td id=\"T_f18fb4d4_9fe3_11e8_90a9_0f76b9511d67row0_col4\" class=\"data row0 col4\" >61.8456</td> \n",
       "        <td id=\"T_f18fb4d4_9fe3_11e8_90a9_0f76b9511d67row0_col5\" class=\"data row0 col5\" >24.2908</td> \n",
       "    </tr>    <tr> \n",
       "        <th id=\"T_f18fb4d4_9fe3_11e8_90a9_0f76b9511d67level0_row1\" class=\"row_heading level0 row1\" >1</th> \n",
       "        <td id=\"T_f18fb4d4_9fe3_11e8_90a9_0f76b9511d67row1_col0\" class=\"data row1 col0\" >2013-04-04 10:00:00+03:00</td> \n",
       "        <td id=\"T_f18fb4d4_9fe3_11e8_90a9_0f76b9511d67row1_col1\" class=\"data row1 col1\" >2013-04-04 12:00:00+03:00</td> \n",
       "        <td id=\"T_f18fb4d4_9fe3_11e8_90a9_0f76b9511d67row1_col2\" class=\"data row1 col2\" >Class Ia</td> \n",
       "        <td id=\"T_f18fb4d4_9fe3_11e8_90a9_0f76b9511d67row1_col3\" class=\"data row1 col3\" >Hyytiälä</td> \n",
       "        <td id=\"T_f18fb4d4_9fe3_11e8_90a9_0f76b9511d67row1_col4\" class=\"data row1 col4\" >61.8456</td> \n",
       "        <td id=\"T_f18fb4d4_9fe3_11e8_90a9_0f76b9511d67row1_col5\" class=\"data row1 col5\" >24.2908</td> \n",
       "    </tr></tbody> \n",
       "</table> "
      ],
      "text/plain": [
       "<pandas.io.formats.style.Styler at 0x7f00d38726d8>"
      ]
     },
     "execution_count": 139,
     "metadata": {},
     "output_type": "execute_result"
    }
   ],
   "source": [
    "df.style.hide_columns(['uri'])"
   ]
  },
  {
   "cell_type": "code",
   "execution_count": 140,
   "metadata": {},
   "outputs": [],
   "source": [
    "# Mean event duration in hours [h]\n",
    "d = (df.end - df.beginning).astype('timedelta64[h]').mean()"
   ]
  },
  {
   "cell_type": "code",
   "execution_count": 141,
   "metadata": {},
   "outputs": [
    {
     "data": {
      "text/plain": [
       "2.5"
      ]
     },
     "execution_count": 141,
     "metadata": {},
     "output_type": "execute_result"
    }
   ],
   "source": [
    "d"
   ]
  },
  {
   "cell_type": "code",
   "execution_count": 142,
   "metadata": {},
   "outputs": [],
   "source": [
    "record(d)"
   ]
  },
  {
   "cell_type": "code",
   "execution_count": null,
   "metadata": {},
   "outputs": [],
   "source": []
  }
 ],
 "metadata": {
  "kernelspec": {
   "display_name": "Python 3",
   "language": "python",
   "name": "python3"
  },
  "language_info": {
   "codemirror_mode": {
    "name": "ipython",
    "version": 3
   },
   "file_extension": ".py",
   "mimetype": "text/x-python",
   "name": "python",
   "nbconvert_exporter": "python",
   "pygments_lexer": "ipython3",
   "version": "3.6.5"
  }
 },
 "nbformat": 4,
 "nbformat_minor": 2
}
