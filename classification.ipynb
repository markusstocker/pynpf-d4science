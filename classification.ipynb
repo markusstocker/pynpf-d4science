{
 "cells": [
  {
   "cell_type": "markdown",
   "metadata": {},
   "source": [
    "# NPFE Classification"
   ]
  },
  {
   "cell_type": "markdown",
   "metadata": {},
   "source": [
    "This notebook supports the detection and description of new particle formation events (NPFEs) that may have occurred on specific days and places. \n",
    "\n",
    "Start by setting up the notebook. First, you need to provide your gcube token and load the provided functions. Then you can start analysing days (YYYY-MM-DD) and places (Hyytiaelae)."
   ]
  },
  {
   "cell_type": "markdown",
   "metadata": {},
   "source": [
    "## Setup"
   ]
  },
  {
   "cell_type": "code",
   "execution_count": null,
   "metadata": {},
   "outputs": [],
   "source": [
    "import os\n",
    "\n",
    "# In the Terminal, export GCUBE_TOKEN=''\n",
    "gcube_token = os.environ['GCUBE_TOKEN']\n",
    "# Alternatively, include the token here\n",
    "# gcube_token = ''"
   ]
  },
  {
   "cell_type": "code",
   "execution_count": null,
   "metadata": {},
   "outputs": [],
   "source": [
    "import logging\n",
    "from io import BytesIO\n",
    "from lxml import etree as et\n",
    "from IPython.display import Image, display\n",
    "from owslib.wps import WebProcessingService, ComplexDataInput, monitorExecution\n",
    "\n",
    "logging.basicConfig()\n",
    "logging.getLogger().setLevel(logging.ERROR)\n",
    "dataminer_url = 'http://dataminer-prototypes.d4science.org/wps/WebProcessingService'\n",
    "headers = {'gcube-token': gcube_token}\n",
    "wps = WebProcessingService(dataminer_url, headers=headers)\n",
    "\n",
    "def plot(day, place):\n",
    "    identifier = 'org.gcube.dataanalysis.wps.statisticalmanager.synchserver.mappedclasses.transducerers.PFFETCHPLOTDATA'\n",
    "    execution = wps.execute(identifier, [('day', day),('place', place)], output='non_deterministic_output')\n",
    "    monitorExecution(execution, sleepSecs=5, download=False)\n",
    "    output = execution.processOutputs[0]\n",
    "    doc = et.parse(BytesIO(output.retrieveData(headers=headers)))\n",
    "    return doc.xpath('/ogr:FeatureCollection/gml:featureMember/ogr:Result/d4science:Description[text() = \"plot\"]/../d4science:Data/text()', namespaces={\n",
    "        'ogr': 'http://ogr.maptools.org/',\n",
    "        'gml': 'http://www.opengis.net/gml',\n",
    "        'd4science': 'http://www.d4science.org'\n",
    "    })[0]\n",
    "\n",
    "def visualize(image):\n",
    "    display(Image(url=image, format='png', embed=True))\n",
    "        \n",
    "def record(day, place, beginning, end, classification):\n",
    "    identifier = 'org.gcube.dataanalysis.wps.statisticalmanager.synchserver.mappedclasses.transducerers.PFRECORDDESCRIPTION'\n",
    "    execution = wps.execute(identifier, [('day', day),('place', place),('beginning', beginning),('end', end),('classification', classification),('image', image)])"
   ]
  },
  {
   "cell_type": "markdown",
   "metadata": {},
   "source": [
    "## Classification\n",
    "\n",
    "In this section you can detect and describe NPFEs. We use primary data, specifically particle size distribution observational data, visualize primary data to detect and describe NPFEs. A specific task here is to classify events. Recording event descriptions automatically catalogues corresponding data files, as RDF data in Turtle syntax."
   ]
  },
  {
   "cell_type": "code",
   "execution_count": null,
   "metadata": {},
   "outputs": [],
   "source": [
    "# Event days (Class Ia)\n",
    "# 2007-04-15, 2007-05-05, 2007-05-18, 2007-10-19, 2008-02-19, 2009-03-19, 2009-03-22 \n",
    "# 2011-03-15, 2011-04-19, 2011-10-01, 2012-05-01, 2012-05-29, 2013-02-20, 2013-04-04\n",
    "#\n",
    "# Non Event days\n",
    "# 2007-04-20, 2008-02-20, 2009-04-03, 2011-04-21, 2012-05-05, 2013-02-21\n",
    "\n",
    "day = '2013-04-04'\n",
    "place = 'Hyytiaelae'"
   ]
  },
  {
   "cell_type": "code",
   "execution_count": null,
   "metadata": {},
   "outputs": [],
   "source": [
    "image = plot(day, place)\n",
    "visualize(image)"
   ]
  },
  {
   "cell_type": "code",
   "execution_count": null,
   "metadata": {},
   "outputs": [],
   "source": [
    "record(day, place, '10:00', '12:00', 'Class Ia')"
   ]
  }
 ],
 "metadata": {
  "kernelspec": {
   "display_name": "Python 3",
   "language": "python",
   "name": "python3"
  },
  "language_info": {
   "codemirror_mode": {
    "name": "ipython",
    "version": 3
   },
   "file_extension": ".py",
   "mimetype": "text/x-python",
   "name": "python",
   "nbconvert_exporter": "python",
   "pygments_lexer": "ipython3",
   "version": "3.6.5"
  }
 },
 "nbformat": 4,
 "nbformat_minor": 2
}
